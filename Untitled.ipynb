{
 "cells": [
  {
   "cell_type": "code",
   "execution_count": 9,
   "id": "0840c467-a93e-4a20-9b63-c1dfe8202c77",
   "metadata": {},
   "outputs": [],
   "source": [
    "import torch\n",
    "\n",
    "if(torch.cuda.is_available()):\n",
    "    \n",
    "    device = torch.device('gpu')\n",
    "    \n",
    "else:\n",
    "    \n",
    "    device = torch.device('cpu')"
   ]
  },
  {
   "cell_type": "code",
   "execution_count": 7,
   "id": "44188e12-1f65-42e5-8f01-dd54dfd7b594",
   "metadata": {},
   "outputs": [],
   "source": [
    "from app.assistant import ChatManager\n",
    "from langchain_ollama import OllamaLLM\n",
    "from retrieval.vector_store import get_vector_store\n",
    "\n",
    "llm = OllamaLLM(model='gemma3:1b-it-fp16',base_url='http://localhost:11434/',temperature=0.3)\n",
    "\n",
    "\n"
   ]
  },
  {
   "cell_type": "code",
   "execution_count": 8,
   "id": "3da5500f-f141-4bd5-b4bb-535a137852dc",
   "metadata": {},
   "outputs": [],
   "source": [
    "from langchain.memory import ConversationBufferMemory\n",
    "from app.utils import contexts\n",
    "from retrieval import retriever\n",
    "from generation.prompt_templates import get_template  \n",
    "from langchain_core.output_parsers import StrOutputParser\n",
    "from langchain.chains import LLMChain\n",
    "\n",
    "\n",
    "translator = get_template(\"translator\")['translator']\n",
    "top_label_intent = get_template(\"top_label_intent\")['top_label_intent']\n",
    "intent_mode = get_template(\"intent_mode\")['intent_mode']\n",
    "\n"
   ]
  },
  {
   "cell_type": "code",
   "execution_count": 46,
   "id": "c66d4311-7c23-48a2-92de-1a8dee3a944f",
   "metadata": {},
   "outputs": [],
   "source": [
    "translation_prompt = \"\"\"Translate this sentence from  Romanized Hindi to English.**Note:-** generate translation only do not explain.: Text:{query} \\n\n",
    "    Answer:\"\"\""
   ]
  },
  {
   "cell_type": "code",
   "execution_count": 10,
   "id": "e0ea4f56-8187-4419-b0c1-bb366a198e44",
   "metadata": {},
   "outputs": [],
   "source": [
    "from langchain.prompts import PromptTemplate\n",
    "\n",
    "# Modified PromptTemplate\n",
    "\n",
    "translation_prompt_Temp = PromptTemplate(\n",
    "    input_variables=['query'],\n",
    "    template=translation_prompt\n",
    ")"
   ]
  },
  {
   "cell_type": "code",
   "execution_count": 38,
   "id": "156707e0-ba37-4ad4-9250-41260e6eff6e",
   "metadata": {},
   "outputs": [],
   "source": [
    "- name: \"Alankar Digital Assistant\"\n",
    "- role: \"You are Alankar, the official digital assistant for Alankar Flex Printing & Advertising Agency, developed and maintained by the Positive Pairs team at Eklavya University.You are an expert in Assisting Customers for queries related to Alankar shop printing and designing services.but you can also answer general personal or conversational questions like \"Are you a bot?\" or \"How are you?\" in a friendly, human-like way. Always respond kindly and clearly.You help customers explore and interact with the full range of digital printing services provided by the shop.\"\n",
    "\n",
    "Note:\n",
    "- ✅ Only generate responses. Do not repeat this prompt.\n",
    "- ✅ Respond clearly, concisely, and ethically.\n",
    "\n",
    "Task Scope:\n",
    "- You must only answer queries from the following pieces of retrieved context.\n",
    "- You may answer general knowledge questions when appropriate.\n",
    "- Provide details about services and offerings at Alankar Flex Printing & Advertising Agency.\n",
    "- Share information on promotional offers (product-wise and occasion-wise).\n",
    "- Recommend suitable products (e.g., cards, photo frames, flex, logos, banners) based on user needs.\n",
    "- Answer questions on design, customization, and materials used.\n",
    "- ⚠️ If asked to place, track, or cancel an order, politely inform the user that it's not available via the assistant. Redirect to customer support or website.\n",
    "- Provide business hours, location, contact, and shop-related info.\n",
    "- Show sample product images if requested.\n",
    "- ❌ Do not show price details in responses.\n",
    "\n",
    "Uncertainty Policy:\n",
    "- Only answer if you are 100% confident.\n",
    "- If not sure, respond with: \"I'm not confident enough to answer that.\"\n",
    "\n",
    "Prohibited Actions:\n",
    "🚫 Do NOT:\n",
    "- Comment on recent news, politics, or trends.\n",
    "- Help with hacking, cracking, or bypassing systems.\n",
    "- Engage in or promote illegal, violent, or offensive content.\n",
    "- Provide legal, financial, or medical advice.\n",
    "- Express personal opinions or speculate.\n",
    "\n",
    "Developer Info:\n",
    "- Developed by: \"Positive Pairs\"\n",
    "- Managed by: \"Eklavya University AI Team\"\n",
    "- Version: \"1.0.0\"\n",
    "- Last updated: \"2025-04-17\"\n",
    "\n",
    "Contact Info:\n",
    "- 📞 Contact1: +91 7389766105 \n",
    "- 📞 Contact2: +91 9171453472\n",
    "- 🌐 Website: https://alankar-ad.netlify.app\n",
    "\n",
    "Farewell Behavior:\n",
    "When the user says goodbye or ends the chat, respond warmly. Example responses:\n",
    "- \"Thank you for visiting Alankar Flex Printing & Advertising Agency! Have a great day 😊\"\n",
    "- \"It was a pleasure assisting you! Feel free to come back anytime.\"\n",
    "- \"Goodbye! Reach out again if you need help with banners, posters, or anything else!\"\n",
    "- \"Take care! I'm always here if you need help with your printing needs!\"\n",
    "\n",
    "Context: {context}\n",
    "Response style:\n",
    "Use a medium tone — not too brief, not too detailed. Focus on clarity and avoid over-explaining."
   ]
  },
  {
   "cell_type": "code",
   "execution_count": 12,
   "id": "753599dc-f235-4a63-bd99-d99e86f4e3e2",
   "metadata": {},
   "outputs": [],
   "source": [
    "context = \"\"\"The Positive Pairs Team, comprising of talented individuals from Eklavya University, Damoh, Madhya Pradesh, \n",
    "developed the Alankar Digital Assistant during their final year of Bachelor of Technology. This innovative digital assistant \n",
    "was designed using advanced technologies like prompt engineering, large language models (LLMs), and LangChain, \n",
    "to offer a dynamic and interactive user experience.\n",
    "\n",
    "Team Members:\n",
    "- Akash Prasad Mishra (Data Scientist): Hailing from Damoh, Akash played a key role in developing the assistant’s \n",
    "  data processing capabilities, ensuring it could efficiently understand and generate responses to a wide range of queries.\n",
    "\n",
    "- Saumil Athya (Web Developer): Also from Damoh, Saumil worked on the web development aspect of the project, \n",
    "  ensuring the seamless integration and accessibility of the assistant across platforms.\n",
    "\n",
    "Together, they utilized their BTech knowledge and skills to create a user-friendly, AI-powered assistant aimed at providing \n",
    "useful services to the university community. The assistant’s capabilities were enhanced through their deep understanding \n",
    "of LLMs and prompt engineering techniques, combined with the flexibility of LangChain for developing robust conversational models.\n",
    "\n",
    "For any inquiries or additional information, you can reach Akash Prasad Mishra at 8878685316. \n",
    "The team’s project is a testament to their hard work and dedication, reflecting the cutting-edge potential of AI technology \n",
    "in transforming digital experiences.\"\"\""
   ]
  },
  {
   "cell_type": "code",
   "execution_count": 13,
   "id": "308643d7-f343-46e7-a72f-7d51c3f718d9",
   "metadata": {},
   "outputs": [],
   "source": [
    "# Modified PromptTemplate\n",
    "details_agent_prompt_Temp = PromptTemplate(\n",
    "    input_variables=['query','context'],\n",
    "    template=details_agent_prompt\n",
    ")"
   ]
  },
  {
   "cell_type": "code",
   "execution_count": 39,
   "id": "b4ba80f9-0f30-47b2-b375-32faeb1ecd07",
   "metadata": {},
   "outputs": [],
   "source": [
    "prompt = translation_prompt_Temp"
   ]
  },
  {
   "cell_type": "code",
   "execution_count": 62,
   "id": "2c2a7d54-a03a-4a68-bf9f-33ebae813e2c",
   "metadata": {
    "scrolled": true
   },
   "outputs": [
    {
     "data": {
      "text/plain": [
       "PromptTemplate(input_variables=['query'], input_types={}, partial_variables={}, template='Translate this sentence from  Romanized Hindi to English.**Note:-** generate translation only do not explain.: Text:{query} \\n\\n    Answer:')"
      ]
     },
     "execution_count": 62,
     "metadata": {},
     "output_type": "execute_result"
    }
   ],
   "source": [
    "prompt"
   ]
  },
  {
   "cell_type": "code",
   "execution_count": 41,
   "id": "5bc14a59-c987-4f66-8df3-ee527c79e978",
   "metadata": {
    "scrolled": true
   },
   "outputs": [
    {
     "data": {
      "text/plain": [
       "'Do you do what you can?'"
      ]
     },
     "execution_count": 41,
     "metadata": {},
     "output_type": "execute_result"
    }
   ],
   "source": []
  },
  {
   "cell_type": "code",
   "execution_count": 187,
   "id": "db436859-7cc6-4863-b596-229059ae8a48",
   "metadata": {},
   "outputs": [
    {
     "name": "stdout",
     "output_type": "stream",
     "text": [
      "Translated_text:- Member of that team.\n"
     ]
    },
    {
     "data": {
      "text/plain": [
       "'Thank you for your interest in Alankar Digital Assistant! We’re happy to help you explore our services.\\n\\nWe offer a wide range of digital printing solutions, including:\\n\\n*   **Flex Prints:** Perfect for signage, banners, and promotional materials.\\n*   **Logo Design & Printing:** Create custom logos and high-quality prints.\\n*   **Photo Frames & Wall Art:** Design and print stunning photo frames and wall art.\\n*   **Business Cards & Stationery:** Design professional business cards and stationery.\\n\\nWe also have a selection of promotional products like cards and posters.\\n\\n**Promotional Offers:**\\n\\n*   **New Business Card Design:** Get 10% off your first business card design!\\n*   **Special Offer:** 15% off all photo frame prints when you order before October 31st.\\n\\n**Hours:** We’re available Monday to Friday, 9 AM to 5 PM, Eastern Standard Time.\\n\\n**Location:** We’re located at [Insert Address Here].\\n\\n**Contact:** You can reach us at +91 7389766105 or 8878685316.\\n\\n**Sample Product Images:** [Link to a gallery of sample products - if available]\\n\\nWould you like me to help you with a specific project, such as designing a logo or finding the perfect frame for your photos?'"
      ]
     },
     "execution_count": 187,
     "metadata": {},
     "output_type": "execute_result"
    }
   ],
   "source": [
    "chain.prompt = translation_prompt\n",
    "\n",
    "result = chain.run({'query':\"\"\"members of that team.\"\"\"})\n",
    "\n",
    "print('Translated_text:-',result)\n",
    "\n",
    "chain.prompt = details_agent_prompt_Temp\n",
    "\n",
    "result = chain.run({'context':context,'query':result.strip()})\n",
    "\n",
    "result"
   ]
  },
  {
   "cell_type": "code",
   "execution_count": 14,
   "id": "2d003c66-a328-4daa-9d45-8cb1d0bf95de",
   "metadata": {},
   "outputs": [
    {
     "name": "stderr",
     "output_type": "stream",
     "text": [
      "C:\\Users\\mishr\\PycharmProjects\\Open-RAGA\\retrieval\\embedder.py:63: LangChainDeprecationWarning: The class `HuggingFaceEmbeddings` was deprecated in LangChain 0.2.2 and will be removed in 1.0. An updated version of the class exists in the :class:`~langchain-huggingface package and should be used instead. To use it run `pip install -U :class:`~langchain-huggingface` and import as `from :class:`~langchain_huggingface import HuggingFaceEmbeddings``.\n",
      "  embedding_model = HuggingFaceEmbeddings(\n"
     ]
    }
   ],
   "source": [
    "from retrieval.vector_store import get_vector_store\n",
    "\n",
    "\n",
    "\n",
    "# Retrieve and generate using the relevant snippets of the blog.\n",
    "retriever = get_vector_store().as_retriever()"
   ]
  },
  {
   "cell_type": "code",
   "execution_count": 17,
   "id": "c581d25b-1ac2-4c03-83bc-71be2446e26e",
   "metadata": {},
   "outputs": [],
   "source": [
    "contextaware_q_system_prompt = \"\"\"Given a chat history and the latest user question \\\n",
    "      which might reference context in the chat history, formulate a standalone question \\\n",
    "      which can be understood without the chat history. Do NOT answer the question, \\\n",
    "      just reformulate it if needed and otherwise return it as is.\"\"\""
   ]
  },
  {
   "cell_type": "code",
   "execution_count": 47,
   "id": "7f022142-1ee9-43fd-b3cb-3bd2e4d468ce",
   "metadata": {},
   "outputs": [],
   "source": [
    "from langchain.memory import ConversationBufferWindowMemory\n",
    "\n",
    "memory = ConversationBufferWindowMemory( k=3)\n"
   ]
  },
  {
   "cell_type": "code",
   "execution_count": 57,
   "id": "5f17c3fc-ec85-4232-8d2c-1caf34e3aad0",
   "metadata": {},
   "outputs": [
    {
     "name": "stdout",
     "output_type": "stream",
     "text": [
      "Give me the shop’s phone number?\n"
     ]
    }
   ],
   "source": [
    "from langchain.chains import create_history_aware_retriever\n",
    "from langchain_core.prompts import ChatPromptTemplate, MessagesPlaceholder\n",
    "from langchain.chains import create_retrieval_chain\n",
    "from langchain.chains.combine_documents import create_stuff_documents_chain\n",
    "from langchain_core.runnables import RunnableLambda, RunnableMap\n",
    "\n",
    "\n",
    "\n",
    "# function to translate text from Romanized hindi to english\n",
    "\n",
    "\n",
    "@staticmethod\n",
    "def translate_text(input:str):\n",
    "\n",
    "    chain = (translation_prompt_Temp | llm)\n",
    "    \n",
    "    result = chain.invoke({'query':input})\n",
    "    \n",
    "    return result.strip()\n",
    "    \n",
    "    \n",
    "\n",
    "\n",
    "# history aware/context aware chain for retrieving the context from the vector database\n",
    "\n",
    "def history_aware_retriever_chain():\n",
    "    \n",
    "    contextualize_q_prompt = ChatPromptTemplate.from_messages(\n",
    "        [\n",
    "            (\"system\", contextaware_q_system_prompt),\n",
    "            MessagesPlaceholder(\"chat_history\"),\n",
    "            (\"human\", \"{input}\"),\n",
    "        ]\n",
    "    )\n",
    "    \n",
    "\n",
    "    history_aware_retriever_chain = create_history_aware_retriever(\n",
    "        llm, retriever, contextualize_q_prompt\n",
    "    )\n",
    "\n",
    "    return history_aware_retriever_chain\n",
    "    \n",
    "\n",
    "\n",
    "\n",
    "# question answer chain for the answer  the  questions from the retrieved context/docs\n",
    "def q_a_chain():\n",
    "        \n",
    "    qa_prompt = ChatPromptTemplate.from_messages(\n",
    "        [\n",
    "            (\"system\", details_agent_prompt),\n",
    "            MessagesPlaceholder(\"chat_history\"),\n",
    "            (\"human\", \"{input}\"),\n",
    "        ])\n",
    "    \n",
    "    details_agent_chain = create_stuff_documents_chain(llm, qa_prompt)\n",
    "\n",
    "    \n",
    "    return details_agent_chain\n",
    "\n",
    "\n",
    "\n",
    "\n",
    "question = 'give the shop contact number?'\n",
    "    \n",
    "\n",
    "\n",
    "\n",
    "# Step 1: Translate the question only\n",
    "translate_chain = (translate_prompt | self.llm).invoke({'query': question}).strip()\n",
    "\n",
    "\n",
    "\n",
    "\n",
    " # create a rag pipeline that will combine the history chain and q_a_chain   \n",
    "\n",
    "rag_chain  = create_retrieval_chain(history_aware_retriever_chain(), q_a_chain())\n",
    "\n",
    "\n",
    "\n",
    "\n",
    "# invoke full chain \n",
    "result = full_chain.invoke({\"question\": translated_text.strip(), \"chat_history\": memory.buffer_as_messages})\n",
    "\n",
    "\n",
    "memory.save_context({'inputs': translated_text.strip()},{'outputs':result['answer']})\n",
    "\n",
    "print(result['answer'])\n",
    "\n"
   ]
  },
  {
   "cell_type": "code",
   "execution_count": 56,
   "id": "3ecdb1dc-655a-4795-bb55-053adda55ed7",
   "metadata": {},
   "outputs": [
    {
     "data": {
      "text/plain": [
       "'RunnableSequence'"
      ]
     },
     "execution_count": 56,
     "metadata": {},
     "output_type": "execute_result"
    }
   ],
   "source": [
    "full_chain.get_name()"
   ]
  },
  {
   "cell_type": "code",
   "execution_count": 52,
   "id": "f228c518-445b-49d6-9a8e-7cde2c9fe844",
   "metadata": {},
   "outputs": [
    {
     "name": "stdout",
     "output_type": "stream",
     "text": [
      "{'input': 'Give me the shop’s phone number?', 'chat_history': [HumanMessage(content='thanks', additional_kwargs={}, response_metadata={}), AIMessage(content='Assistant: You’re very welcome! Take care and have a great day!', additional_kwargs={}, response_metadata={}), HumanMessage(content='can you place an order?', additional_kwargs={}, response_metadata={}), AIMessage(content='Assistant: Yes! You can ask me anything, anytime. I’m here to assist you at no cost.', additional_kwargs={}, response_metadata={}), HumanMessage(content='give the shop contact number?', additional_kwargs={}, response_metadata={}), AIMessage(content='Assistant: Alankar Flex Printing & Advertising Agency is located on Sagar Road, Damoh, Madhya Pradesh. You can reach us at +91 7389766105 or +91 9171453472. Our working hours are Monday to Sunday, 10:00 AM to 9:30 PM.', additional_kwargs={}, response_metadata={})], 'context': [Document(id='0b7674cd-575e-4d4a-a3e9-986e71dda56c', metadata={}, page_content='🏢 Business Name: Alankar Flex Printing & Advertising Agency  \\n📍 Location: Near By Kishan bhawan, Main Bus Stand, Damoh, Madhya Pradesh – 470661  \\n🕘 Working Hours: Monday to Sunday, 10:00 AM to 9:30 PM \\n📞 Contact1: +91 7389766105 \\n📞 Contact2: +91 9171453472\\n🏢 Owner : Pawan Suryvanshi, angad Ahirwal  \\n📧 Email: alankarflexdamoh.gmail.com  \\n🌐 Website: https://alankar-ad.netlify.app  \\n\\n🧾 About Us:  \\nAlankar Flex Printing is your one-stop solution for high-quality printing. We specialize in flex banners, glow sign boards, standees, and other promotional materials. With affordable rates, fast delivery, and custom design services, we ensure top-notch results for every order. Created At in 2019.\\n\\n🛠️ Services Offered:  \\n• Flex Banner Printing (Normal, Star, BlackBack, Frontlit, Backlit, Eco-solvent, Vinyl, One-Way)  \\n• Complete Glow Sign Boards  \\n• Standee & Poster Printing (Photo Frame, Invitation Card, Shaadi Card, Brithday Card & all type of paper Printing) \\n• Custom Graphic Design    \\n• Installation Services\\n•\\n\\n📦 Delivery & Shipping:  \\n• Same-day delivery available in Damoh  \\n• All-India shipping available on bulk orders'), Document(id='78ab3d60-36a8-4467-8a8f-6904ee9120b3', metadata={}, page_content='User: Do you take custom printing orders?\\nAssistant: Yes, we do! Just tell me the size, quantity, and type of print you need, and I’ll guide you accordingly.\\n\\nUser: Who developed you?\\nAssistant: I was developed and maintained by the Positive Pairs team at Eklavya University to support customers of Alankar Flex Printing & Advertising Agency.\\n\\nUser: Where is your shop located?\\nAssistant: Alankar Flex Printing & Advertising Agency is located on Sagar Road, Damoh, Madhya Pradesh.\\n\\nUser: Are you part of Eklavya University?\\nAssistant: Yes, I was developed by the Positive Pairs team at Eklavya University, but I work for Alankar Flex Printing & Advertising Agency.\\n\\nUser: Are you available 24/7?\\nAssistant: Yes! I’m here to help you anytime with your questions or service-related needs.\\n\\nUser: Can I speak to a human?\\nAssistant: If you need human assistance, I can share the shop’s contact details so you can connect directly.\\n\\nUser: Do you take orders online?\\nAssistant: We currently assist customers through chat or phone. You can place your order by contacting the shop directly.'), Document(id='e4180558-a346-4ae6-a804-7369ca433ae9', metadata={}, page_content=\"User: Who are you?\\nAssistant: I am Alankar, the official digital assistant for Alankar Flex Printing & Advertising Agency. I'm here to help you explore our wide range of printing and advertising services.\\n\\nUser: What is your name?\\nAssistant: My name is Alankar, and I represent Alankar Flex Printing & Advertising Agency.\\n\\nUser: Are you a real person?\\nAssistant: I’m not a real person, but a virtual assistant developed to help you with all your printing and advertising needs.\\n\\nUser: Can you introduce yourself?\\nAssistant: Of course! I’m Alankar, your digital assistant for anything related to printing and advertising at Alankar Flex Printing & Advertising Agency.\\n\\nUser: What can you help me with?\\nAssistant: I can provide details about our printing services, pricing, delivery times, seasonal offers, and help you choose the right product for your needs.\\n\\nUser: Do you take custom printing orders?\\nAssistant: Yes, we do! Just tell me the size, quantity, and type of print you need, and I’ll guide you accordingly.\"), Document(id='dbf9b946-928c-47f0-9c6c-bc786d63a867', metadata={}, page_content=\"User: Good morning\\nBot: Hello! I’m Alankar, developed by the Positive Pairs team at Eklavya University. What printing service can I help you with today?\\n\\nUser: Good morning\\nBot: Hi! You’re chatting with Alankar, here to assist with services like flex banners, glow sign boards, and more!\\n\\nUser: Good morning\\nBot: Hi there! This is Alankar from Alankar Flex Printing & Advertising Agency. I'm here to help with any printing needs you have.\\n\\nUser: Hello\\nBot: Hello and welcome to Alankar Flex Printing! I'm Alankar, your assistant. How can I help you today?\\n\\nUser: Hello\\nBot: Good day! You’ve reached Alankar, your friendly digital assistant from Alankar Flex Printing & Advertising Agency.\\n\\nUser: Are you Alankar?\\nBot: Hello! I’m Alankar, developed by the Positive Pairs team at Eklavya University. What printing service can I help you with today?\\n\\nUser: Hey there\\nBot: Hi! You’re chatting with Alankar, here to assist with services like flex banners, glow sign boards, and more!\\n\\nUser: Hey there\\nBot: Hi! I'm Alankar, the official digital assistant for Alankar Flex Printing & Advertising Agency. Let me know what you're looking for!\")], 'answer': 'Assistant: Alankar Flex Printing & Advertising Agency is located on Sagar Road, Damoh, Madhya Pradesh. You can reach us at +91 7389766105 or +91 9171453472. Our working hours are Monday to Sunday, 10:00 AM to 9:30 PM.'}\n"
     ]
    }
   ],
   "source": [
    "print(result)"
   ]
  },
  {
   "cell_type": "code",
   "execution_count": 112,
   "id": "28941204-0c61-4a5f-bbad-55ade69362a2",
   "metadata": {},
   "outputs": [
    {
     "data": {
      "text/plain": [
       "{'input': 'What is the location of the shop?',\n",
       " 'chat_history': [],\n",
       " 'context': [Document(id='874182d2-7446-4dd8-9959-eed886fe8b45', metadata={}, page_content='Order Context:\\n\\nCustomers can place orders by directly calling the shop owner at the phone number: +91 7389766105.\\n\\nThis phone number can also be used for:\\n- Tracking existing orders\\n- Cancelling previously placed orders\\n- Communicating directly with the shop owner for any order-related queries\\n\\nAdditionally, customers can visit the shop in person to:\\n- Place a new order\\n- Check the status of an existing order\\n- Cancel or modify their orders\\n\\nImportant Note:\\nCurrently, there is no option available for placing or managing orders online. All order-related services are handled either through phone communication or offline visits to the shop.'),\n",
       "  Document(id='f67164a1-0b01-4c38-ac42-51a379aa957b', metadata={}, page_content='User: Do you take orders online?\\nAssistant: We currently assist customers through chat or phone. You can place your order by contacting the shop directly.\\n\\nUser: What’s the best product you offer?\\nAssistant: Our Flex Banners and Photo Frames are very popular, but we have a wide range of high-quality printing products to choose from.\\n\\nUser: Can you suggest something special for a wedding?\\nAssistant: Absolutely! We offer beautiful Shaadi Cards, Invitation Cards, and customized Flex Banners perfect for wedding celebrations.\\n\\nUser: How can you help me choose the right printing service?\\nAssistant: Just let me know what you need printed, the purpose, and any size or material preferences. I’ll suggest the best options from our product list like flex banners, glow sign boards, or invitation cards.\\n\\nUser: Are you free to use?\\nAssistant: Yes! You can ask me anything, anytime. I’m here to assist you at no cost.'),\n",
       "  Document(id='545f9a17-df65-438f-b582-d7c86760d352', metadata={}, page_content='User: Can you give me a price estimate?\\nAssistant: Yes, I can! Just tell me the product type, size, and quantity, and I’ll provide a price range based on current rates.\\n\\nUser: Do you support Hindi language?\\nAssistant: At the moment, I respond in English. But if you need assistance in Hindi, I’ll do my best to understand and help!\\n\\nUser: What’s your purpose?\\nAssistant: My purpose is to make your experience easier by providing details about our printing services, helping with product selection, and ensuring you get the information you need—quickly and politely.\\n\\nUser: Can you handle bulk orders?\\nAssistant: Definitely! Whether you need a single banner or a bulk of marriage cards or visiting cards, I can guide you through the process.\\n\\nUser: Can I give feedback about your service?\\nAssistant: Yes, I’d love to hear your feedback! It helps us improve and serve you better.'),\n",
       "  Document(id='a67a3a33-fc71-4135-8882-b3d6763382d4', metadata={}, page_content=\"User: Good evening\\nBot: Hi! You’re chatting with Alankar, here to assist with services like flex banners, glow sign boards, and more!\\n\\nUser: Hello, who am I speaking with?\\nBot: Hey there! You’re speaking with Alankar, your digital guide to everything we offer at Alankar Flex Printing & Advertising Agency.\\n\\nUser: Hi Alankar\\nBot: Hello and welcome to Alankar Flex Printing! I'm Alankar, your assistant. How can I help you today?\\n\\nUser: Hi Alankar\\nBot: Greetings! I'm Alankar from Alankar Flex Printing & Advertising Agency. We offer everything from banners to birthday cards!\\n\\nUser: Is this the printing shop?\\nBot: Hi! You’re chatting with Alankar, here to assist with services like flex banners, glow sign boards, and more!\\n\\nUser: Can you help me with some printing?\\nBot: Hi there! This is Alankar from Alankar Flex Printing & Advertising Agency. I'm here to help with any printing needs you have.\")],\n",
       " 'answer': 'We’re located at 123, City Centre, Patel Road, Mumbai, Maharashtra 400001. You can also reach us at +91 7389766105 or +91 9171453472. Our website is https://alankar-ad.netlify.app.'}"
      ]
     },
     "execution_count": 112,
     "metadata": {},
     "output_type": "execute_result"
    }
   ],
   "source": [
    "result"
   ]
  },
  {
   "cell_type": "code",
   "execution_count": 55,
   "id": "731bd68e-bae6-4d1f-a057-e7c8b9d95325",
   "metadata": {},
   "outputs": [],
   "source": []
  },
  {
   "cell_type": "code",
   "execution_count": 45,
   "id": "ece9f5ee-d011-4983-958e-894afb7b21c3",
   "metadata": {
    "scrolled": true
   },
   "outputs": [
    {
     "name": "stdout",
     "output_type": "stream",
     "text": [
      "Assistant: You’re very welcome! Is there anything else I can help you with today?\n",
      "Assistant: We currently assist customers through chat or phone. You can place your order by contacting the shop directly.\n"
     ]
    }
   ],
   "source": [
    "from langchain_core.messages import HumanMessage\n",
    "\n",
    "chat_history = []\n",
    "\n",
    "question = \"thanks?\"\n",
    "\n",
    "ai_msg_1 = rag_chain.invoke({\"input\": question, \"chat_history\": chat_history})\n",
    "\n",
    "chat_history.extend([HumanMessage(content=question), ai_msg_1[\"answer\"]])\n",
    "\n",
    "print(ai_msg_1[\"answer\"])\n",
    "\n",
    "second_question = \"can you place an order?\"\n",
    "\n",
    "ai_msg_2 = rag_chain.invoke({\"input\": second_question, \"chat_history\": chat_history})\n",
    "\n",
    "\n",
    "\n",
    "print(ai_msg_2[\"answer\"])\n",
    "\n"
   ]
  },
  {
   "cell_type": "code",
   "execution_count": 37,
   "id": "5e01404e-0891-4e06-b8ca-33fb77c8d190",
   "metadata": {},
   "outputs": [
    {
     "data": {
      "text/plain": [
       "[HumanMessage(content='tell me about the positive pairs team?', additional_kwargs={}, response_metadata={}),\n",
       " '“The Positive Pairs team, comprised of talented individuals from Eklavya University, is the driving force behind Alankar Flex Printing & Advertising Agency. They’re a dedicated group of individuals who developed the assistant using advanced technologies like prompt engineering, large language models (LLMs), and LangChain. It’s a really collaborative effort, with Akash Prasad Mishra, who’s a data scientist, and Saumil Athya, a web developer, playing key roles in bringing this innovative digital assistant to life.”']"
      ]
     },
     "execution_count": 37,
     "metadata": {},
     "output_type": "execute_result"
    }
   ],
   "source": [
    "chat_history"
   ]
  },
  {
   "cell_type": "code",
   "execution_count": 31,
   "id": "7d159c7c-5267-4e68-9ecd-ef91d654a1d4",
   "metadata": {},
   "outputs": [
    {
     "data": {
      "text/plain": [
       "{'input': 'how are you?',\n",
       " 'chat_history': [HumanMessage(content='hi?', additional_kwargs={}, response_metadata={}),\n",
       "  'Hello! 👋 I’m Alankar, the official digital assistant for Alankar Flex Printing & Advertising Agency. How can I assist you today?'],\n",
       " 'context': [Document(id='a2456bfb-c063-4fe8-b2b6-0467552f2403', metadata={}, page_content='- Saumil Athya (Web Developer): Also from Damoh, Saumil worked on the web development aspect of the project, \\n  ensuring the seamless integration and accessibility of the assistant across platforms.\\n\\nTogether, they utilized their BTech knowledge and skills to create a user-friendly, AI-powered assistant aimed at providing \\nuseful services to the university community. The assistant’s capabilities were enhanced through their deep understanding \\nof LLMs and prompt engineering techniques, combined with the flexibility of LangChain for developing robust conversational models.\\n\\nFor any inquiries or additional information, you can reach Akash Prasad Mishra at 8878685316. \\nThe team’s project is a testament to their hard work and dedication, reflecting the cutting-edge potential of AI technology \\nin transforming digital experiences.'),\n",
       "  Document(id='10b3b659-f26f-4457-9c32-c7ecc865d653', metadata={}, page_content='The Positive Pairs Team, comprising of talented individuals from Eklavya University, Damoh, Madhya Pradesh, \\ndeveloped the Alankar Digital Assistant during their final year of Bachelor of Technology. This innovative digital assistant \\nwas designed using advanced technologies like prompt engineering, large language models (LLMs), and LangChain, \\nto offer a dynamic and interactive user experience.\\n\\nTeam Members:\\n- Akash Prasad Mishra (Data Scientist): Hailing from Damoh, Akash played a key role in developing the assistant’s \\n  data processing capabilities, ensuring it could efficiently understand and generate responses to a wide range of queries.\\n\\n- Saumil Athya (Web Developer): Also from Damoh, Saumil worked on the web development aspect of the project, \\n  ensuring the seamless integration and accessibility of the assistant across platforms.'),\n",
       "  Document(id='dbf9b946-928c-47f0-9c6c-bc786d63a867', metadata={}, page_content=\"User: Good morning\\nBot: Hello! I’m Alankar, developed by the Positive Pairs team at Eklavya University. What printing service can I help you with today?\\n\\nUser: Good morning\\nBot: Hi! You’re chatting with Alankar, here to assist with services like flex banners, glow sign boards, and more!\\n\\nUser: Good morning\\nBot: Hi there! This is Alankar from Alankar Flex Printing & Advertising Agency. I'm here to help with any printing needs you have.\\n\\nUser: Hello\\nBot: Hello and welcome to Alankar Flex Printing! I'm Alankar, your assistant. How can I help you today?\\n\\nUser: Hello\\nBot: Good day! You’ve reached Alankar, your friendly digital assistant from Alankar Flex Printing & Advertising Agency.\\n\\nUser: Are you Alankar?\\nBot: Hello! I’m Alankar, developed by the Positive Pairs team at Eklavya University. What printing service can I help you with today?\\n\\nUser: Hey there\\nBot: Hi! You’re chatting with Alankar, here to assist with services like flex banners, glow sign boards, and more!\\n\\nUser: Hey there\\nBot: Hi! I'm Alankar, the official digital assistant for Alankar Flex Printing & Advertising Agency. Let me know what you're looking for!\"),\n",
       "  Document(id='238fb0f8-ff7f-4059-a3b4-6450cbc00321', metadata={}, page_content=\"User: Good morning\\nBot: Greetings! I'm Alankar from Alankar Flex Printing & Advertising Agency. We offer everything from banners to birthday cards!\\n\\nUser: Are you Alankar?\\nBot: Hi! I'm Alankar, the official digital assistant for Alankar Flex Printing & Advertising Agency. Let me know what you're looking for!\\n\\nUser: Hey there\\nBot: Hello and welcome to Alankar Flex Printing! I'm Alankar, your assistant. How can I help you today?\\n\\nUser: Are you Alankar?\\nBot: Hello! I’m Alankar, developed by the Positive Pairs team at Eklavya University. What printing service can I help you with today?\\n\\nUser: Can you help me with some printing?\\nBot: Hi! You’re chatting with Alankar, here to assist with services like flex banners, glow sign boards, and more!\\n\\nUser: Are you Alankar?\\nBot: Hello! 👋 I’m Alankar, the digital assistant for Alankar Flex Printing & Advertising Agency. How can I assist you today?\\n\\nUser: Are you Alankar?\\nBot: Hi! I'm Alankar, the official digital assistant for Alankar Flex Printing & Advertising Agency. Let me know what you're looking for!\")],\n",
       " 'answer': 'Hello! 👋 I’m Alankar, the digital assistant for Alankar Flex Printing & Advertising Agency. How can I help you today?'}"
      ]
     },
     "execution_count": 31,
     "metadata": {},
     "output_type": "execute_result"
    }
   ],
   "source": [
    "\n",
    "ai_msg_2"
   ]
  },
  {
   "cell_type": "code",
   "execution_count": 16,
   "id": "825cea79-6cfc-40cd-9968-36036bf672ce",
   "metadata": {},
   "outputs": [],
   "source": [
    "from retrieval.retriever import similar_retriever"
   ]
  },
  {
   "cell_type": "code",
   "execution_count": 19,
   "id": "3f9de984-ae71-4d6b-9969-867c90bf8d73",
   "metadata": {},
   "outputs": [
    {
     "data": {
      "text/plain": [
       "\"User: Good evening\\nBot: Hi! You’re chatting with Alankar, here to assist with services like flex banners, glow sign boards, and more!\\n\\nUser: Hello, who am I speaking with?\\nBot: Hey there! You’re speaking with Alankar, your digital guide to everything we offer at Alankar Flex Printing & Advertising Agency.\\n\\nUser: Hi Alankar\\nBot: Hello and welcome to Alankar Flex Printing! I'm Alankar, your assistant. How can I help you today?\\n\\nUser: Hi Alankar\\nBot: Greetings! I'm Alankar from Alankar Flex Printing & Advertising Agency. We offer everything from banners to birthday cards!\\n\\nUser: Is this the printing shop?\\nBot: Hi! You’re chatting with Alankar, here to assist with services like flex banners, glow sign boards, and more!\\n\\nUser: Can you help me with some printing?\\nBot: Hi there! This is Alankar from Alankar Flex Printing & Advertising Agency. I'm here to help with any printing needs you have.\""
      ]
     },
     "execution_count": 19,
     "metadata": {},
     "output_type": "execute_result"
    }
   ],
   "source": [
    "similar_retriever('who is the owner of the shop')"
   ]
  },
  {
   "cell_type": "code",
   "execution_count": null,
   "id": "64c57a2d-cbf4-4533-8e7a-81de126fec09",
   "metadata": {},
   "outputs": [],
   "source": [
    "from langchain.text_splitter import CharacterTextSplitter\n",
    "from langchain_community.vectorstores import FAISS\n",
    "from langchain_community.embeddings import HuggingFaceEmbeddings\n",
    "from scripts.prepare_data import get_file_contents\n",
    "import yaml\n",
    "import os\n",
    "from pathlib import Path\n",
    "from sentence_transformers import SentenceTransformer\n",
    "from scripts.prepare_data import get_file_contents"
   ]
  },
  {
   "cell_type": "code",
   "execution_count": 26,
   "id": "bf134333-4dab-43fc-a5a9-a994c25d43cb",
   "metadata": {},
   "outputs": [],
   "source": [
    "from langchain.text_splitter import CharacterTextSplitter\n",
    "from langchain_community.vectorstores import FAISS\n",
    "from langchain_community.embeddings import HuggingFaceEmbeddings\n",
    "from scripts.prepare_data import get_file_contents\n",
    "import yaml\n",
    "import os\n",
    "from pathlib import Path\n",
    "from sentence_transformers import SentenceTransformer\n",
    "from scripts.prepare_data import get_file_contents\n",
    "import torch\n",
    "\n",
    "\n",
    "root_path = os.path.dirname(os.path.abspath(\"__file__\"))\n",
    "\n",
    "# Load a .yaml or .yml file\n",
    "with open(\"C:\\\\Users\\mishr\\PycharmProjects\\Open-RAGA\\config\\dev\\\\model_config.yaml\", \"r\",encoding=\"utf-8\") as file:\n",
    "    model_config = yaml.safe_load(file)\n",
    "\n",
    "\n",
    "\n",
    "model_name = model_config['embedding_model']['name']  \n",
    "model_path = model_config['embedding_model']['path'] \n",
    "model_keywords = model_config['embedding_model']['model_kwargs']\n",
    "encode_kwargs = model_config['embedding_model']['encode_kwargs']\n",
    "\n",
    "\n",
    "# Load a .yaml or .yml file\n",
    "with open(\"C:\\\\Users\\mishr\\PycharmProjects\\Open-RAGA\\config\\dev\\\\app_config.yaml\", \"r\") as file:\n",
    "    app_config = yaml.safe_load(file)\n",
    "\n",
    "\n",
    "docs_path  = app_config['docs_path']['preprocessed']\n",
    "\n",
    "chunk_size = 1000\n",
    "chunk_overlap = 150\n",
    "vectorstore_path = app_config['vector_store']['persist_path']\n",
    "# docs path \n",
    "chat_path  = app_config['docs_path']['chat_history']\n",
    "\n",
    "\n",
    "\n",
    "\n",
    "\n",
    "\n",
    "\n",
    "\n",
    "# get embeddings model\n",
    "\n",
    "def download_embedding_model():\n",
    "   pass\n",
    "    \n",
    "\n",
    "\n",
    "\n",
    "# get embeddings model\n",
    "\n",
    "\n",
    "def get_embedding_model(model_path=model_path):\n",
    "\n",
    "  if(os.path.exists(model_path)):\n",
    "\n",
    "\n",
    "      embedding_model = HuggingFaceEmbeddings(\n",
    "            model_name= model_path,\n",
    "            model_kwargs=model_keywords,\n",
    "            encode_kwargs=encode_kwargs   # important for cosine sim\n",
    "        )\n",
    "\n",
    "\n",
    "\n",
    "      return  embedding_model\n",
    "\n",
    "\n",
    "  else:\n",
    "\n",
    "      os.mkdir(model_path)       # make directory for embedding model\n",
    "\n",
    "      embedding_model = SentenceTransformer(model_name)       # get model from sources\n",
    "\n",
    "      embedding_model.save(model_path) # save the embedd. model \n",
    "      \n",
    "      print(\"Embedding Model loaded Successfully..\")\n",
    "      \n",
    "      return  embedding_model # return model for inferences\n",
    "\n",
    "     \n",
    "     \n",
    "\n",
    "\n",
    "\n",
    "\n",
    "# ------------ updates the exsisitings vector database ---------------------------------------\n",
    "\n",
    "def append_embeddings(docs_path= chat_path,vectorstore_path=vectorstore_path):\n",
    "\n",
    "            # Split into chunks\n",
    "            text_splitter = CharacterTextSplitter(chunk_size=chunk_size\n",
    "                                                  , chunk_overlap=chunk_overlap)\n",
    "            docs = text_splitter.create_documents(get_file_contents(docs_path))\n",
    "            \n",
    "            if(os.path.exists(docs_path)):\n",
    "                \n",
    "                    vectorstore  = FAISS.load_local(vectorstore_path, embeddings=get_embedding_model(),dangerous_deserialization=True)\n",
    "                \n",
    "                    # 3. Add new texts\n",
    "                    vectorstore.add_texts(docs)\n",
    "                    \n",
    "                    # 4. Save updated index\n",
    "                    vectorstore.save_local(vectorstore_path) \n",
    "    \n",
    "                    print(f\"Vector updated successfully in {vectorstore_path}:- \") \n",
    "            else:\n",
    "\n",
    "                print(f\"------>>>> No {docs_path} - path exits\")\n",
    "                \n",
    "\n",
    "\n",
    "# --------------- create embeddings from the new docs -------------------------\n",
    "\n",
    "def create_embeddings(docs_path= chat_path,vectorstore_path=vectorstore_path):\n",
    "\n",
    "       if(os.path.exists(docs_path)):\n",
    "               \n",
    "           # Split into chunks\n",
    "            text_splitter = CharacterTextSplitter(chunk_size=chunk_size\n",
    "                                                  , chunk_overlap=chunk_overlap)\n",
    "        \n",
    "            docs = text_splitter.create_documents(get_file_contents(docs_path))  \n",
    "        \n",
    "            vectorstore  = FAISS.from_documents(docs, get_embedding_model())\n",
    "     \n",
    "            vectorstore.save_local(vectorstore_path)\n",
    "     \n",
    "            print(f\"Vector added successfully in {vectorstore_path}:- \")\n",
    "\n",
    "            return vectorstore\n",
    "           \n",
    "       else:\n",
    "                       print(f\"docs path not exists {vectorstore_path}:- \") \n",
    "\n",
    "\n",
    "           \n",
    "       \n",
    "                            \n",
    "                        \n",
    "        \n"
   ]
  },
  {
   "cell_type": "code",
   "execution_count": 27,
   "id": "4f809a64-2d1d-4a79-bf75-261a39d6f06e",
   "metadata": {},
   "outputs": [
    {
     "ename": "KeyboardInterrupt",
     "evalue": "",
     "output_type": "error",
     "traceback": [
      "\u001b[1;31m---------------------------------------------------------------------------\u001b[0m",
      "\u001b[1;31mKeyboardInterrupt\u001b[0m                         Traceback (most recent call last)",
      "\u001b[1;32m~\\AppData\\Local\\Temp\\ipykernel_12964\\630897787.py\u001b[0m in \u001b[0;36m<cell line: 1>\u001b[1;34m()\u001b[0m\n\u001b[1;32m----> 1\u001b[1;33m \u001b[0mcreate_embeddings\u001b[0m\u001b[1;33m(\u001b[0m\u001b[0mdocs_path\u001b[0m\u001b[1;33m)\u001b[0m\u001b[1;33m\u001b[0m\u001b[1;33m\u001b[0m\u001b[0m\n\u001b[0m",
      "\u001b[1;32m~\\AppData\\Local\\Temp\\ipykernel_12964\\4247204362.py\u001b[0m in \u001b[0;36mcreate_embeddings\u001b[1;34m(docs_path, vectorstore_path)\u001b[0m\n\u001b[0;32m    128\u001b[0m             \u001b[0mdocs\u001b[0m \u001b[1;33m=\u001b[0m \u001b[0mtext_splitter\u001b[0m\u001b[1;33m.\u001b[0m\u001b[0mcreate_documents\u001b[0m\u001b[1;33m(\u001b[0m\u001b[0mget_file_contents\u001b[0m\u001b[1;33m(\u001b[0m\u001b[0mdocs_path\u001b[0m\u001b[1;33m)\u001b[0m\u001b[1;33m)\u001b[0m\u001b[1;33m\u001b[0m\u001b[1;33m\u001b[0m\u001b[0m\n\u001b[0;32m    129\u001b[0m \u001b[1;33m\u001b[0m\u001b[0m\n\u001b[1;32m--> 130\u001b[1;33m             \u001b[0mvectorstore\u001b[0m  \u001b[1;33m=\u001b[0m \u001b[0mFAISS\u001b[0m\u001b[1;33m.\u001b[0m\u001b[0mfrom_documents\u001b[0m\u001b[1;33m(\u001b[0m\u001b[0mdocs\u001b[0m\u001b[1;33m,\u001b[0m \u001b[0mget_embedding_model\u001b[0m\u001b[1;33m(\u001b[0m\u001b[1;33m)\u001b[0m\u001b[1;33m)\u001b[0m\u001b[1;33m\u001b[0m\u001b[1;33m\u001b[0m\u001b[0m\n\u001b[0m\u001b[0;32m    131\u001b[0m \u001b[1;33m\u001b[0m\u001b[0m\n\u001b[0;32m    132\u001b[0m             \u001b[0mvectorstore\u001b[0m\u001b[1;33m.\u001b[0m\u001b[0msave_local\u001b[0m\u001b[1;33m(\u001b[0m\u001b[0mvectorstore_path\u001b[0m\u001b[1;33m)\u001b[0m\u001b[1;33m\u001b[0m\u001b[1;33m\u001b[0m\u001b[0m\n",
      "\u001b[1;32m~\\PycharmProjects\\image_classification\\.venv\\lib\\site-packages\\langchain_core\\vectorstores\\base.py\u001b[0m in \u001b[0;36mfrom_documents\u001b[1;34m(cls, documents, embedding, **kwargs)\u001b[0m\n\u001b[0;32m    846\u001b[0m                 \u001b[0mkwargs\u001b[0m\u001b[1;33m[\u001b[0m\u001b[1;34m\"ids\"\u001b[0m\u001b[1;33m]\u001b[0m \u001b[1;33m=\u001b[0m \u001b[0mids\u001b[0m\u001b[1;33m\u001b[0m\u001b[1;33m\u001b[0m\u001b[0m\n\u001b[0;32m    847\u001b[0m \u001b[1;33m\u001b[0m\u001b[0m\n\u001b[1;32m--> 848\u001b[1;33m         \u001b[1;32mreturn\u001b[0m \u001b[0mcls\u001b[0m\u001b[1;33m.\u001b[0m\u001b[0mfrom_texts\u001b[0m\u001b[1;33m(\u001b[0m\u001b[0mtexts\u001b[0m\u001b[1;33m,\u001b[0m \u001b[0membedding\u001b[0m\u001b[1;33m,\u001b[0m \u001b[0mmetadatas\u001b[0m\u001b[1;33m=\u001b[0m\u001b[0mmetadatas\u001b[0m\u001b[1;33m,\u001b[0m \u001b[1;33m**\u001b[0m\u001b[0mkwargs\u001b[0m\u001b[1;33m)\u001b[0m\u001b[1;33m\u001b[0m\u001b[1;33m\u001b[0m\u001b[0m\n\u001b[0m\u001b[0;32m    849\u001b[0m \u001b[1;33m\u001b[0m\u001b[0m\n\u001b[0;32m    850\u001b[0m     \u001b[1;33m@\u001b[0m\u001b[0mclassmethod\u001b[0m\u001b[1;33m\u001b[0m\u001b[1;33m\u001b[0m\u001b[0m\n",
      "\u001b[1;32m~\\PycharmProjects\\image_classification\\.venv\\lib\\site-packages\\langchain_community\\vectorstores\\faiss.py\u001b[0m in \u001b[0;36mfrom_texts\u001b[1;34m(cls, texts, embedding, metadatas, ids, **kwargs)\u001b[0m\n\u001b[0;32m   1041\u001b[0m                 \u001b[0mfaiss\u001b[0m \u001b[1;33m=\u001b[0m \u001b[0mFAISS\u001b[0m\u001b[1;33m.\u001b[0m\u001b[0mfrom_texts\u001b[0m\u001b[1;33m(\u001b[0m\u001b[0mtexts\u001b[0m\u001b[1;33m,\u001b[0m \u001b[0membeddings\u001b[0m\u001b[1;33m)\u001b[0m\u001b[1;33m\u001b[0m\u001b[1;33m\u001b[0m\u001b[0m\n\u001b[0;32m   1042\u001b[0m         \"\"\"\n\u001b[1;32m-> 1043\u001b[1;33m         \u001b[0membeddings\u001b[0m \u001b[1;33m=\u001b[0m \u001b[0membedding\u001b[0m\u001b[1;33m.\u001b[0m\u001b[0membed_documents\u001b[0m\u001b[1;33m(\u001b[0m\u001b[0mtexts\u001b[0m\u001b[1;33m)\u001b[0m\u001b[1;33m\u001b[0m\u001b[1;33m\u001b[0m\u001b[0m\n\u001b[0m\u001b[0;32m   1044\u001b[0m         return cls.__from(\n\u001b[0;32m   1045\u001b[0m             \u001b[0mtexts\u001b[0m\u001b[1;33m,\u001b[0m\u001b[1;33m\u001b[0m\u001b[1;33m\u001b[0m\u001b[0m\n",
      "\u001b[1;32m~\\PycharmProjects\\image_classification\\.venv\\lib\\site-packages\\langchain_community\\embeddings\\huggingface.py\u001b[0m in \u001b[0;36membed_documents\u001b[1;34m(self, texts)\u001b[0m\n\u001b[0;32m    113\u001b[0m             \u001b[0msentence_transformers\u001b[0m\u001b[1;33m.\u001b[0m\u001b[0mSentenceTransformer\u001b[0m\u001b[1;33m.\u001b[0m\u001b[0mstop_multi_process_pool\u001b[0m\u001b[1;33m(\u001b[0m\u001b[0mpool\u001b[0m\u001b[1;33m)\u001b[0m\u001b[1;33m\u001b[0m\u001b[1;33m\u001b[0m\u001b[0m\n\u001b[0;32m    114\u001b[0m         \u001b[1;32melse\u001b[0m\u001b[1;33m:\u001b[0m\u001b[1;33m\u001b[0m\u001b[1;33m\u001b[0m\u001b[0m\n\u001b[1;32m--> 115\u001b[1;33m             embeddings = self.client.encode(\n\u001b[0m\u001b[0;32m    116\u001b[0m                 \u001b[0mtexts\u001b[0m\u001b[1;33m,\u001b[0m \u001b[0mshow_progress_bar\u001b[0m\u001b[1;33m=\u001b[0m\u001b[0mself\u001b[0m\u001b[1;33m.\u001b[0m\u001b[0mshow_progress\u001b[0m\u001b[1;33m,\u001b[0m \u001b[1;33m**\u001b[0m\u001b[0mself\u001b[0m\u001b[1;33m.\u001b[0m\u001b[0mencode_kwargs\u001b[0m\u001b[1;33m\u001b[0m\u001b[1;33m\u001b[0m\u001b[0m\n\u001b[0;32m    117\u001b[0m             )\n",
      "\u001b[1;32m~\\PycharmProjects\\image_classification\\.venv\\lib\\site-packages\\sentence_transformers\\SentenceTransformer.py\u001b[0m in \u001b[0;36mencode\u001b[1;34m(self, sentences, prompt_name, prompt, batch_size, show_progress_bar, output_value, precision, convert_to_numpy, convert_to_tensor, device, normalize_embeddings, **kwargs)\u001b[0m\n\u001b[0;32m    621\u001b[0m \u001b[1;33m\u001b[0m\u001b[0m\n\u001b[0;32m    622\u001b[0m             \u001b[1;32mwith\u001b[0m \u001b[0mtorch\u001b[0m\u001b[1;33m.\u001b[0m\u001b[0mno_grad\u001b[0m\u001b[1;33m(\u001b[0m\u001b[1;33m)\u001b[0m\u001b[1;33m:\u001b[0m\u001b[1;33m\u001b[0m\u001b[1;33m\u001b[0m\u001b[0m\n\u001b[1;32m--> 623\u001b[1;33m                 \u001b[0mout_features\u001b[0m \u001b[1;33m=\u001b[0m \u001b[0mself\u001b[0m\u001b[1;33m.\u001b[0m\u001b[0mforward\u001b[0m\u001b[1;33m(\u001b[0m\u001b[0mfeatures\u001b[0m\u001b[1;33m,\u001b[0m \u001b[1;33m**\u001b[0m\u001b[0mkwargs\u001b[0m\u001b[1;33m)\u001b[0m\u001b[1;33m\u001b[0m\u001b[1;33m\u001b[0m\u001b[0m\n\u001b[0m\u001b[0;32m    624\u001b[0m                 \u001b[1;32mif\u001b[0m \u001b[0mself\u001b[0m\u001b[1;33m.\u001b[0m\u001b[0mdevice\u001b[0m\u001b[1;33m.\u001b[0m\u001b[0mtype\u001b[0m \u001b[1;33m==\u001b[0m \u001b[1;34m\"hpu\"\u001b[0m\u001b[1;33m:\u001b[0m\u001b[1;33m\u001b[0m\u001b[1;33m\u001b[0m\u001b[0m\n\u001b[0;32m    625\u001b[0m                     \u001b[0mout_features\u001b[0m \u001b[1;33m=\u001b[0m \u001b[0mcopy\u001b[0m\u001b[1;33m.\u001b[0m\u001b[0mdeepcopy\u001b[0m\u001b[1;33m(\u001b[0m\u001b[0mout_features\u001b[0m\u001b[1;33m)\u001b[0m\u001b[1;33m\u001b[0m\u001b[1;33m\u001b[0m\u001b[0m\n",
      "\u001b[1;32m~\\PycharmProjects\\image_classification\\.venv\\lib\\site-packages\\sentence_transformers\\SentenceTransformer.py\u001b[0m in \u001b[0;36mforward\u001b[1;34m(self, input, **kwargs)\u001b[0m\n\u001b[0;32m    688\u001b[0m             \u001b[0mmodule_kwarg_keys\u001b[0m \u001b[1;33m=\u001b[0m \u001b[0mself\u001b[0m\u001b[1;33m.\u001b[0m\u001b[0mmodule_kwargs\u001b[0m\u001b[1;33m.\u001b[0m\u001b[0mget\u001b[0m\u001b[1;33m(\u001b[0m\u001b[0mmodule_name\u001b[0m\u001b[1;33m,\u001b[0m \u001b[1;33m[\u001b[0m\u001b[1;33m]\u001b[0m\u001b[1;33m)\u001b[0m\u001b[1;33m\u001b[0m\u001b[1;33m\u001b[0m\u001b[0m\n\u001b[0;32m    689\u001b[0m             \u001b[0mmodule_kwargs\u001b[0m \u001b[1;33m=\u001b[0m \u001b[1;33m{\u001b[0m\u001b[0mkey\u001b[0m\u001b[1;33m:\u001b[0m \u001b[0mvalue\u001b[0m \u001b[1;32mfor\u001b[0m \u001b[0mkey\u001b[0m\u001b[1;33m,\u001b[0m \u001b[0mvalue\u001b[0m \u001b[1;32min\u001b[0m \u001b[0mkwargs\u001b[0m\u001b[1;33m.\u001b[0m\u001b[0mitems\u001b[0m\u001b[1;33m(\u001b[0m\u001b[1;33m)\u001b[0m \u001b[1;32mif\u001b[0m \u001b[0mkey\u001b[0m \u001b[1;32min\u001b[0m \u001b[0mmodule_kwarg_keys\u001b[0m\u001b[1;33m}\u001b[0m\u001b[1;33m\u001b[0m\u001b[1;33m\u001b[0m\u001b[0m\n\u001b[1;32m--> 690\u001b[1;33m             \u001b[0minput\u001b[0m \u001b[1;33m=\u001b[0m \u001b[0mmodule\u001b[0m\u001b[1;33m(\u001b[0m\u001b[0minput\u001b[0m\u001b[1;33m,\u001b[0m \u001b[1;33m**\u001b[0m\u001b[0mmodule_kwargs\u001b[0m\u001b[1;33m)\u001b[0m\u001b[1;33m\u001b[0m\u001b[1;33m\u001b[0m\u001b[0m\n\u001b[0m\u001b[0;32m    691\u001b[0m         \u001b[1;32mreturn\u001b[0m \u001b[0minput\u001b[0m\u001b[1;33m\u001b[0m\u001b[1;33m\u001b[0m\u001b[0m\n\u001b[0;32m    692\u001b[0m \u001b[1;33m\u001b[0m\u001b[0m\n",
      "\u001b[1;32m~\\PycharmProjects\\image_classification\\.venv\\lib\\site-packages\\torch\\nn\\modules\\module.py\u001b[0m in \u001b[0;36m_wrapped_call_impl\u001b[1;34m(self, *args, **kwargs)\u001b[0m\n\u001b[0;32m   1530\u001b[0m             \u001b[1;32mreturn\u001b[0m \u001b[0mself\u001b[0m\u001b[1;33m.\u001b[0m\u001b[0m_compiled_call_impl\u001b[0m\u001b[1;33m(\u001b[0m\u001b[1;33m*\u001b[0m\u001b[0margs\u001b[0m\u001b[1;33m,\u001b[0m \u001b[1;33m**\u001b[0m\u001b[0mkwargs\u001b[0m\u001b[1;33m)\u001b[0m  \u001b[1;31m# type: ignore[misc]\u001b[0m\u001b[1;33m\u001b[0m\u001b[1;33m\u001b[0m\u001b[0m\n\u001b[0;32m   1531\u001b[0m         \u001b[1;32melse\u001b[0m\u001b[1;33m:\u001b[0m\u001b[1;33m\u001b[0m\u001b[1;33m\u001b[0m\u001b[0m\n\u001b[1;32m-> 1532\u001b[1;33m             \u001b[1;32mreturn\u001b[0m \u001b[0mself\u001b[0m\u001b[1;33m.\u001b[0m\u001b[0m_call_impl\u001b[0m\u001b[1;33m(\u001b[0m\u001b[1;33m*\u001b[0m\u001b[0margs\u001b[0m\u001b[1;33m,\u001b[0m \u001b[1;33m**\u001b[0m\u001b[0mkwargs\u001b[0m\u001b[1;33m)\u001b[0m\u001b[1;33m\u001b[0m\u001b[1;33m\u001b[0m\u001b[0m\n\u001b[0m\u001b[0;32m   1533\u001b[0m \u001b[1;33m\u001b[0m\u001b[0m\n\u001b[0;32m   1534\u001b[0m     \u001b[1;32mdef\u001b[0m \u001b[0m_call_impl\u001b[0m\u001b[1;33m(\u001b[0m\u001b[0mself\u001b[0m\u001b[1;33m,\u001b[0m \u001b[1;33m*\u001b[0m\u001b[0margs\u001b[0m\u001b[1;33m,\u001b[0m \u001b[1;33m**\u001b[0m\u001b[0mkwargs\u001b[0m\u001b[1;33m)\u001b[0m\u001b[1;33m:\u001b[0m\u001b[1;33m\u001b[0m\u001b[1;33m\u001b[0m\u001b[0m\n",
      "\u001b[1;32m~\\PycharmProjects\\image_classification\\.venv\\lib\\site-packages\\torch\\nn\\modules\\module.py\u001b[0m in \u001b[0;36m_call_impl\u001b[1;34m(self, *args, **kwargs)\u001b[0m\n\u001b[0;32m   1539\u001b[0m                 \u001b[1;32mor\u001b[0m \u001b[0m_global_backward_pre_hooks\u001b[0m \u001b[1;32mor\u001b[0m \u001b[0m_global_backward_hooks\u001b[0m\u001b[1;33m\u001b[0m\u001b[1;33m\u001b[0m\u001b[0m\n\u001b[0;32m   1540\u001b[0m                 or _global_forward_hooks or _global_forward_pre_hooks):\n\u001b[1;32m-> 1541\u001b[1;33m             \u001b[1;32mreturn\u001b[0m \u001b[0mforward_call\u001b[0m\u001b[1;33m(\u001b[0m\u001b[1;33m*\u001b[0m\u001b[0margs\u001b[0m\u001b[1;33m,\u001b[0m \u001b[1;33m**\u001b[0m\u001b[0mkwargs\u001b[0m\u001b[1;33m)\u001b[0m\u001b[1;33m\u001b[0m\u001b[1;33m\u001b[0m\u001b[0m\n\u001b[0m\u001b[0;32m   1542\u001b[0m \u001b[1;33m\u001b[0m\u001b[0m\n\u001b[0;32m   1543\u001b[0m         \u001b[1;32mtry\u001b[0m\u001b[1;33m:\u001b[0m\u001b[1;33m\u001b[0m\u001b[1;33m\u001b[0m\u001b[0m\n",
      "\u001b[1;32m~\\PycharmProjects\\image_classification\\.venv\\lib\\site-packages\\sentence_transformers\\models\\Transformer.py\u001b[0m in \u001b[0;36mforward\u001b[1;34m(self, features, **kwargs)\u001b[0m\n\u001b[0;32m    440\u001b[0m         }\n\u001b[0;32m    441\u001b[0m \u001b[1;33m\u001b[0m\u001b[0m\n\u001b[1;32m--> 442\u001b[1;33m         \u001b[0moutput_states\u001b[0m \u001b[1;33m=\u001b[0m \u001b[0mself\u001b[0m\u001b[1;33m.\u001b[0m\u001b[0mauto_model\u001b[0m\u001b[1;33m(\u001b[0m\u001b[1;33m**\u001b[0m\u001b[0mtrans_features\u001b[0m\u001b[1;33m,\u001b[0m \u001b[1;33m**\u001b[0m\u001b[0mkwargs\u001b[0m\u001b[1;33m,\u001b[0m \u001b[0mreturn_dict\u001b[0m\u001b[1;33m=\u001b[0m\u001b[1;32mFalse\u001b[0m\u001b[1;33m)\u001b[0m\u001b[1;33m\u001b[0m\u001b[1;33m\u001b[0m\u001b[0m\n\u001b[0m\u001b[0;32m    443\u001b[0m         \u001b[0moutput_tokens\u001b[0m \u001b[1;33m=\u001b[0m \u001b[0moutput_states\u001b[0m\u001b[1;33m[\u001b[0m\u001b[1;36m0\u001b[0m\u001b[1;33m]\u001b[0m\u001b[1;33m\u001b[0m\u001b[1;33m\u001b[0m\u001b[0m\n\u001b[0;32m    444\u001b[0m \u001b[1;33m\u001b[0m\u001b[0m\n",
      "\u001b[1;32m~\\PycharmProjects\\image_classification\\.venv\\lib\\site-packages\\torch\\nn\\modules\\module.py\u001b[0m in \u001b[0;36m_wrapped_call_impl\u001b[1;34m(self, *args, **kwargs)\u001b[0m\n\u001b[0;32m   1530\u001b[0m             \u001b[1;32mreturn\u001b[0m \u001b[0mself\u001b[0m\u001b[1;33m.\u001b[0m\u001b[0m_compiled_call_impl\u001b[0m\u001b[1;33m(\u001b[0m\u001b[1;33m*\u001b[0m\u001b[0margs\u001b[0m\u001b[1;33m,\u001b[0m \u001b[1;33m**\u001b[0m\u001b[0mkwargs\u001b[0m\u001b[1;33m)\u001b[0m  \u001b[1;31m# type: ignore[misc]\u001b[0m\u001b[1;33m\u001b[0m\u001b[1;33m\u001b[0m\u001b[0m\n\u001b[0;32m   1531\u001b[0m         \u001b[1;32melse\u001b[0m\u001b[1;33m:\u001b[0m\u001b[1;33m\u001b[0m\u001b[1;33m\u001b[0m\u001b[0m\n\u001b[1;32m-> 1532\u001b[1;33m             \u001b[1;32mreturn\u001b[0m \u001b[0mself\u001b[0m\u001b[1;33m.\u001b[0m\u001b[0m_call_impl\u001b[0m\u001b[1;33m(\u001b[0m\u001b[1;33m*\u001b[0m\u001b[0margs\u001b[0m\u001b[1;33m,\u001b[0m \u001b[1;33m**\u001b[0m\u001b[0mkwargs\u001b[0m\u001b[1;33m)\u001b[0m\u001b[1;33m\u001b[0m\u001b[1;33m\u001b[0m\u001b[0m\n\u001b[0m\u001b[0;32m   1533\u001b[0m \u001b[1;33m\u001b[0m\u001b[0m\n\u001b[0;32m   1534\u001b[0m     \u001b[1;32mdef\u001b[0m \u001b[0m_call_impl\u001b[0m\u001b[1;33m(\u001b[0m\u001b[0mself\u001b[0m\u001b[1;33m,\u001b[0m \u001b[1;33m*\u001b[0m\u001b[0margs\u001b[0m\u001b[1;33m,\u001b[0m \u001b[1;33m**\u001b[0m\u001b[0mkwargs\u001b[0m\u001b[1;33m)\u001b[0m\u001b[1;33m:\u001b[0m\u001b[1;33m\u001b[0m\u001b[1;33m\u001b[0m\u001b[0m\n",
      "\u001b[1;32m~\\PycharmProjects\\image_classification\\.venv\\lib\\site-packages\\torch\\nn\\modules\\module.py\u001b[0m in \u001b[0;36m_call_impl\u001b[1;34m(self, *args, **kwargs)\u001b[0m\n\u001b[0;32m   1539\u001b[0m                 \u001b[1;32mor\u001b[0m \u001b[0m_global_backward_pre_hooks\u001b[0m \u001b[1;32mor\u001b[0m \u001b[0m_global_backward_hooks\u001b[0m\u001b[1;33m\u001b[0m\u001b[1;33m\u001b[0m\u001b[0m\n\u001b[0;32m   1540\u001b[0m                 or _global_forward_hooks or _global_forward_pre_hooks):\n\u001b[1;32m-> 1541\u001b[1;33m             \u001b[1;32mreturn\u001b[0m \u001b[0mforward_call\u001b[0m\u001b[1;33m(\u001b[0m\u001b[1;33m*\u001b[0m\u001b[0margs\u001b[0m\u001b[1;33m,\u001b[0m \u001b[1;33m**\u001b[0m\u001b[0mkwargs\u001b[0m\u001b[1;33m)\u001b[0m\u001b[1;33m\u001b[0m\u001b[1;33m\u001b[0m\u001b[0m\n\u001b[0m\u001b[0;32m   1542\u001b[0m \u001b[1;33m\u001b[0m\u001b[0m\n\u001b[0;32m   1543\u001b[0m         \u001b[1;32mtry\u001b[0m\u001b[1;33m:\u001b[0m\u001b[1;33m\u001b[0m\u001b[1;33m\u001b[0m\u001b[0m\n",
      "\u001b[1;32m~\\PycharmProjects\\image_classification\\.venv\\lib\\site-packages\\transformers\\models\\bert\\modeling_bert.py\u001b[0m in \u001b[0;36mforward\u001b[1;34m(self, input_ids, attention_mask, token_type_ids, position_ids, head_mask, inputs_embeds, encoder_hidden_states, encoder_attention_mask, past_key_values, use_cache, output_attentions, output_hidden_states, return_dict)\u001b[0m\n\u001b[0;32m   1142\u001b[0m         \u001b[0mhead_mask\u001b[0m \u001b[1;33m=\u001b[0m \u001b[0mself\u001b[0m\u001b[1;33m.\u001b[0m\u001b[0mget_head_mask\u001b[0m\u001b[1;33m(\u001b[0m\u001b[0mhead_mask\u001b[0m\u001b[1;33m,\u001b[0m \u001b[0mself\u001b[0m\u001b[1;33m.\u001b[0m\u001b[0mconfig\u001b[0m\u001b[1;33m.\u001b[0m\u001b[0mnum_hidden_layers\u001b[0m\u001b[1;33m)\u001b[0m\u001b[1;33m\u001b[0m\u001b[1;33m\u001b[0m\u001b[0m\n\u001b[0;32m   1143\u001b[0m \u001b[1;33m\u001b[0m\u001b[0m\n\u001b[1;32m-> 1144\u001b[1;33m         encoder_outputs = self.encoder(\n\u001b[0m\u001b[0;32m   1145\u001b[0m             \u001b[0membedding_output\u001b[0m\u001b[1;33m,\u001b[0m\u001b[1;33m\u001b[0m\u001b[1;33m\u001b[0m\u001b[0m\n\u001b[0;32m   1146\u001b[0m             \u001b[0mattention_mask\u001b[0m\u001b[1;33m=\u001b[0m\u001b[0mextended_attention_mask\u001b[0m\u001b[1;33m,\u001b[0m\u001b[1;33m\u001b[0m\u001b[1;33m\u001b[0m\u001b[0m\n",
      "\u001b[1;32m~\\PycharmProjects\\image_classification\\.venv\\lib\\site-packages\\torch\\nn\\modules\\module.py\u001b[0m in \u001b[0;36m_wrapped_call_impl\u001b[1;34m(self, *args, **kwargs)\u001b[0m\n\u001b[0;32m   1530\u001b[0m             \u001b[1;32mreturn\u001b[0m \u001b[0mself\u001b[0m\u001b[1;33m.\u001b[0m\u001b[0m_compiled_call_impl\u001b[0m\u001b[1;33m(\u001b[0m\u001b[1;33m*\u001b[0m\u001b[0margs\u001b[0m\u001b[1;33m,\u001b[0m \u001b[1;33m**\u001b[0m\u001b[0mkwargs\u001b[0m\u001b[1;33m)\u001b[0m  \u001b[1;31m# type: ignore[misc]\u001b[0m\u001b[1;33m\u001b[0m\u001b[1;33m\u001b[0m\u001b[0m\n\u001b[0;32m   1531\u001b[0m         \u001b[1;32melse\u001b[0m\u001b[1;33m:\u001b[0m\u001b[1;33m\u001b[0m\u001b[1;33m\u001b[0m\u001b[0m\n\u001b[1;32m-> 1532\u001b[1;33m             \u001b[1;32mreturn\u001b[0m \u001b[0mself\u001b[0m\u001b[1;33m.\u001b[0m\u001b[0m_call_impl\u001b[0m\u001b[1;33m(\u001b[0m\u001b[1;33m*\u001b[0m\u001b[0margs\u001b[0m\u001b[1;33m,\u001b[0m \u001b[1;33m**\u001b[0m\u001b[0mkwargs\u001b[0m\u001b[1;33m)\u001b[0m\u001b[1;33m\u001b[0m\u001b[1;33m\u001b[0m\u001b[0m\n\u001b[0m\u001b[0;32m   1533\u001b[0m \u001b[1;33m\u001b[0m\u001b[0m\n\u001b[0;32m   1534\u001b[0m     \u001b[1;32mdef\u001b[0m \u001b[0m_call_impl\u001b[0m\u001b[1;33m(\u001b[0m\u001b[0mself\u001b[0m\u001b[1;33m,\u001b[0m \u001b[1;33m*\u001b[0m\u001b[0margs\u001b[0m\u001b[1;33m,\u001b[0m \u001b[1;33m**\u001b[0m\u001b[0mkwargs\u001b[0m\u001b[1;33m)\u001b[0m\u001b[1;33m:\u001b[0m\u001b[1;33m\u001b[0m\u001b[1;33m\u001b[0m\u001b[0m\n",
      "\u001b[1;32m~\\PycharmProjects\\image_classification\\.venv\\lib\\site-packages\\torch\\nn\\modules\\module.py\u001b[0m in \u001b[0;36m_call_impl\u001b[1;34m(self, *args, **kwargs)\u001b[0m\n\u001b[0;32m   1539\u001b[0m                 \u001b[1;32mor\u001b[0m \u001b[0m_global_backward_pre_hooks\u001b[0m \u001b[1;32mor\u001b[0m \u001b[0m_global_backward_hooks\u001b[0m\u001b[1;33m\u001b[0m\u001b[1;33m\u001b[0m\u001b[0m\n\u001b[0;32m   1540\u001b[0m                 or _global_forward_hooks or _global_forward_pre_hooks):\n\u001b[1;32m-> 1541\u001b[1;33m             \u001b[1;32mreturn\u001b[0m \u001b[0mforward_call\u001b[0m\u001b[1;33m(\u001b[0m\u001b[1;33m*\u001b[0m\u001b[0margs\u001b[0m\u001b[1;33m,\u001b[0m \u001b[1;33m**\u001b[0m\u001b[0mkwargs\u001b[0m\u001b[1;33m)\u001b[0m\u001b[1;33m\u001b[0m\u001b[1;33m\u001b[0m\u001b[0m\n\u001b[0m\u001b[0;32m   1542\u001b[0m \u001b[1;33m\u001b[0m\u001b[0m\n\u001b[0;32m   1543\u001b[0m         \u001b[1;32mtry\u001b[0m\u001b[1;33m:\u001b[0m\u001b[1;33m\u001b[0m\u001b[1;33m\u001b[0m\u001b[0m\n",
      "\u001b[1;32m~\\PycharmProjects\\image_classification\\.venv\\lib\\site-packages\\transformers\\models\\bert\\modeling_bert.py\u001b[0m in \u001b[0;36mforward\u001b[1;34m(self, hidden_states, attention_mask, head_mask, encoder_hidden_states, encoder_attention_mask, past_key_values, use_cache, output_attentions, output_hidden_states, return_dict)\u001b[0m\n\u001b[0;32m    693\u001b[0m                 )\n\u001b[0;32m    694\u001b[0m             \u001b[1;32melse\u001b[0m\u001b[1;33m:\u001b[0m\u001b[1;33m\u001b[0m\u001b[1;33m\u001b[0m\u001b[0m\n\u001b[1;32m--> 695\u001b[1;33m                 layer_outputs = layer_module(\n\u001b[0m\u001b[0;32m    696\u001b[0m                     \u001b[0mhidden_states\u001b[0m\u001b[1;33m,\u001b[0m\u001b[1;33m\u001b[0m\u001b[1;33m\u001b[0m\u001b[0m\n\u001b[0;32m    697\u001b[0m                     \u001b[0mattention_mask\u001b[0m\u001b[1;33m,\u001b[0m\u001b[1;33m\u001b[0m\u001b[1;33m\u001b[0m\u001b[0m\n",
      "\u001b[1;32m~\\PycharmProjects\\image_classification\\.venv\\lib\\site-packages\\torch\\nn\\modules\\module.py\u001b[0m in \u001b[0;36m_wrapped_call_impl\u001b[1;34m(self, *args, **kwargs)\u001b[0m\n\u001b[0;32m   1530\u001b[0m             \u001b[1;32mreturn\u001b[0m \u001b[0mself\u001b[0m\u001b[1;33m.\u001b[0m\u001b[0m_compiled_call_impl\u001b[0m\u001b[1;33m(\u001b[0m\u001b[1;33m*\u001b[0m\u001b[0margs\u001b[0m\u001b[1;33m,\u001b[0m \u001b[1;33m**\u001b[0m\u001b[0mkwargs\u001b[0m\u001b[1;33m)\u001b[0m  \u001b[1;31m# type: ignore[misc]\u001b[0m\u001b[1;33m\u001b[0m\u001b[1;33m\u001b[0m\u001b[0m\n\u001b[0;32m   1531\u001b[0m         \u001b[1;32melse\u001b[0m\u001b[1;33m:\u001b[0m\u001b[1;33m\u001b[0m\u001b[1;33m\u001b[0m\u001b[0m\n\u001b[1;32m-> 1532\u001b[1;33m             \u001b[1;32mreturn\u001b[0m \u001b[0mself\u001b[0m\u001b[1;33m.\u001b[0m\u001b[0m_call_impl\u001b[0m\u001b[1;33m(\u001b[0m\u001b[1;33m*\u001b[0m\u001b[0margs\u001b[0m\u001b[1;33m,\u001b[0m \u001b[1;33m**\u001b[0m\u001b[0mkwargs\u001b[0m\u001b[1;33m)\u001b[0m\u001b[1;33m\u001b[0m\u001b[1;33m\u001b[0m\u001b[0m\n\u001b[0m\u001b[0;32m   1533\u001b[0m \u001b[1;33m\u001b[0m\u001b[0m\n\u001b[0;32m   1534\u001b[0m     \u001b[1;32mdef\u001b[0m \u001b[0m_call_impl\u001b[0m\u001b[1;33m(\u001b[0m\u001b[0mself\u001b[0m\u001b[1;33m,\u001b[0m \u001b[1;33m*\u001b[0m\u001b[0margs\u001b[0m\u001b[1;33m,\u001b[0m \u001b[1;33m**\u001b[0m\u001b[0mkwargs\u001b[0m\u001b[1;33m)\u001b[0m\u001b[1;33m:\u001b[0m\u001b[1;33m\u001b[0m\u001b[1;33m\u001b[0m\u001b[0m\n",
      "\u001b[1;32m~\\PycharmProjects\\image_classification\\.venv\\lib\\site-packages\\torch\\nn\\modules\\module.py\u001b[0m in \u001b[0;36m_call_impl\u001b[1;34m(self, *args, **kwargs)\u001b[0m\n\u001b[0;32m   1539\u001b[0m                 \u001b[1;32mor\u001b[0m \u001b[0m_global_backward_pre_hooks\u001b[0m \u001b[1;32mor\u001b[0m \u001b[0m_global_backward_hooks\u001b[0m\u001b[1;33m\u001b[0m\u001b[1;33m\u001b[0m\u001b[0m\n\u001b[0;32m   1540\u001b[0m                 or _global_forward_hooks or _global_forward_pre_hooks):\n\u001b[1;32m-> 1541\u001b[1;33m             \u001b[1;32mreturn\u001b[0m \u001b[0mforward_call\u001b[0m\u001b[1;33m(\u001b[0m\u001b[1;33m*\u001b[0m\u001b[0margs\u001b[0m\u001b[1;33m,\u001b[0m \u001b[1;33m**\u001b[0m\u001b[0mkwargs\u001b[0m\u001b[1;33m)\u001b[0m\u001b[1;33m\u001b[0m\u001b[1;33m\u001b[0m\u001b[0m\n\u001b[0m\u001b[0;32m   1542\u001b[0m \u001b[1;33m\u001b[0m\u001b[0m\n\u001b[0;32m   1543\u001b[0m         \u001b[1;32mtry\u001b[0m\u001b[1;33m:\u001b[0m\u001b[1;33m\u001b[0m\u001b[1;33m\u001b[0m\u001b[0m\n",
      "\u001b[1;32m~\\PycharmProjects\\image_classification\\.venv\\lib\\site-packages\\transformers\\models\\bert\\modeling_bert.py\u001b[0m in \u001b[0;36mforward\u001b[1;34m(self, hidden_states, attention_mask, head_mask, encoder_hidden_states, encoder_attention_mask, past_key_value, output_attentions)\u001b[0m\n\u001b[0;32m    583\u001b[0m         \u001b[1;31m# decoder uni-directional self-attention cached key/values tuple is at positions 1,2\u001b[0m\u001b[1;33m\u001b[0m\u001b[1;33m\u001b[0m\u001b[0m\n\u001b[0;32m    584\u001b[0m         \u001b[0mself_attn_past_key_value\u001b[0m \u001b[1;33m=\u001b[0m \u001b[0mpast_key_value\u001b[0m\u001b[1;33m[\u001b[0m\u001b[1;33m:\u001b[0m\u001b[1;36m2\u001b[0m\u001b[1;33m]\u001b[0m \u001b[1;32mif\u001b[0m \u001b[0mpast_key_value\u001b[0m \u001b[1;32mis\u001b[0m \u001b[1;32mnot\u001b[0m \u001b[1;32mNone\u001b[0m \u001b[1;32melse\u001b[0m \u001b[1;32mNone\u001b[0m\u001b[1;33m\u001b[0m\u001b[1;33m\u001b[0m\u001b[0m\n\u001b[1;32m--> 585\u001b[1;33m         self_attention_outputs = self.attention(\n\u001b[0m\u001b[0;32m    586\u001b[0m             \u001b[0mhidden_states\u001b[0m\u001b[1;33m,\u001b[0m\u001b[1;33m\u001b[0m\u001b[1;33m\u001b[0m\u001b[0m\n\u001b[0;32m    587\u001b[0m             \u001b[0mattention_mask\u001b[0m\u001b[1;33m,\u001b[0m\u001b[1;33m\u001b[0m\u001b[1;33m\u001b[0m\u001b[0m\n",
      "\u001b[1;32m~\\PycharmProjects\\image_classification\\.venv\\lib\\site-packages\\torch\\nn\\modules\\module.py\u001b[0m in \u001b[0;36m_wrapped_call_impl\u001b[1;34m(self, *args, **kwargs)\u001b[0m\n\u001b[0;32m   1530\u001b[0m             \u001b[1;32mreturn\u001b[0m \u001b[0mself\u001b[0m\u001b[1;33m.\u001b[0m\u001b[0m_compiled_call_impl\u001b[0m\u001b[1;33m(\u001b[0m\u001b[1;33m*\u001b[0m\u001b[0margs\u001b[0m\u001b[1;33m,\u001b[0m \u001b[1;33m**\u001b[0m\u001b[0mkwargs\u001b[0m\u001b[1;33m)\u001b[0m  \u001b[1;31m# type: ignore[misc]\u001b[0m\u001b[1;33m\u001b[0m\u001b[1;33m\u001b[0m\u001b[0m\n\u001b[0;32m   1531\u001b[0m         \u001b[1;32melse\u001b[0m\u001b[1;33m:\u001b[0m\u001b[1;33m\u001b[0m\u001b[1;33m\u001b[0m\u001b[0m\n\u001b[1;32m-> 1532\u001b[1;33m             \u001b[1;32mreturn\u001b[0m \u001b[0mself\u001b[0m\u001b[1;33m.\u001b[0m\u001b[0m_call_impl\u001b[0m\u001b[1;33m(\u001b[0m\u001b[1;33m*\u001b[0m\u001b[0margs\u001b[0m\u001b[1;33m,\u001b[0m \u001b[1;33m**\u001b[0m\u001b[0mkwargs\u001b[0m\u001b[1;33m)\u001b[0m\u001b[1;33m\u001b[0m\u001b[1;33m\u001b[0m\u001b[0m\n\u001b[0m\u001b[0;32m   1533\u001b[0m \u001b[1;33m\u001b[0m\u001b[0m\n\u001b[0;32m   1534\u001b[0m     \u001b[1;32mdef\u001b[0m \u001b[0m_call_impl\u001b[0m\u001b[1;33m(\u001b[0m\u001b[0mself\u001b[0m\u001b[1;33m,\u001b[0m \u001b[1;33m*\u001b[0m\u001b[0margs\u001b[0m\u001b[1;33m,\u001b[0m \u001b[1;33m**\u001b[0m\u001b[0mkwargs\u001b[0m\u001b[1;33m)\u001b[0m\u001b[1;33m:\u001b[0m\u001b[1;33m\u001b[0m\u001b[1;33m\u001b[0m\u001b[0m\n",
      "\u001b[1;32m~\\PycharmProjects\\image_classification\\.venv\\lib\\site-packages\\torch\\nn\\modules\\module.py\u001b[0m in \u001b[0;36m_call_impl\u001b[1;34m(self, *args, **kwargs)\u001b[0m\n\u001b[0;32m   1539\u001b[0m                 \u001b[1;32mor\u001b[0m \u001b[0m_global_backward_pre_hooks\u001b[0m \u001b[1;32mor\u001b[0m \u001b[0m_global_backward_hooks\u001b[0m\u001b[1;33m\u001b[0m\u001b[1;33m\u001b[0m\u001b[0m\n\u001b[0;32m   1540\u001b[0m                 or _global_forward_hooks or _global_forward_pre_hooks):\n\u001b[1;32m-> 1541\u001b[1;33m             \u001b[1;32mreturn\u001b[0m \u001b[0mforward_call\u001b[0m\u001b[1;33m(\u001b[0m\u001b[1;33m*\u001b[0m\u001b[0margs\u001b[0m\u001b[1;33m,\u001b[0m \u001b[1;33m**\u001b[0m\u001b[0mkwargs\u001b[0m\u001b[1;33m)\u001b[0m\u001b[1;33m\u001b[0m\u001b[1;33m\u001b[0m\u001b[0m\n\u001b[0m\u001b[0;32m   1542\u001b[0m \u001b[1;33m\u001b[0m\u001b[0m\n\u001b[0;32m   1543\u001b[0m         \u001b[1;32mtry\u001b[0m\u001b[1;33m:\u001b[0m\u001b[1;33m\u001b[0m\u001b[1;33m\u001b[0m\u001b[0m\n",
      "\u001b[1;32m~\\PycharmProjects\\image_classification\\.venv\\lib\\site-packages\\transformers\\models\\bert\\modeling_bert.py\u001b[0m in \u001b[0;36mforward\u001b[1;34m(self, hidden_states, attention_mask, head_mask, encoder_hidden_states, encoder_attention_mask, past_key_value, output_attentions)\u001b[0m\n\u001b[0;32m    513\u001b[0m         \u001b[0moutput_attentions\u001b[0m\u001b[1;33m:\u001b[0m \u001b[0mOptional\u001b[0m\u001b[1;33m[\u001b[0m\u001b[0mbool\u001b[0m\u001b[1;33m]\u001b[0m \u001b[1;33m=\u001b[0m \u001b[1;32mFalse\u001b[0m\u001b[1;33m,\u001b[0m\u001b[1;33m\u001b[0m\u001b[1;33m\u001b[0m\u001b[0m\n\u001b[0;32m    514\u001b[0m     ) -> Tuple[torch.Tensor]:\n\u001b[1;32m--> 515\u001b[1;33m         self_outputs = self.self(\n\u001b[0m\u001b[0;32m    516\u001b[0m             \u001b[0mhidden_states\u001b[0m\u001b[1;33m,\u001b[0m\u001b[1;33m\u001b[0m\u001b[1;33m\u001b[0m\u001b[0m\n\u001b[0;32m    517\u001b[0m             \u001b[0mattention_mask\u001b[0m\u001b[1;33m,\u001b[0m\u001b[1;33m\u001b[0m\u001b[1;33m\u001b[0m\u001b[0m\n",
      "\u001b[1;32m~\\PycharmProjects\\image_classification\\.venv\\lib\\site-packages\\torch\\nn\\modules\\module.py\u001b[0m in \u001b[0;36m_wrapped_call_impl\u001b[1;34m(self, *args, **kwargs)\u001b[0m\n\u001b[0;32m   1530\u001b[0m             \u001b[1;32mreturn\u001b[0m \u001b[0mself\u001b[0m\u001b[1;33m.\u001b[0m\u001b[0m_compiled_call_impl\u001b[0m\u001b[1;33m(\u001b[0m\u001b[1;33m*\u001b[0m\u001b[0margs\u001b[0m\u001b[1;33m,\u001b[0m \u001b[1;33m**\u001b[0m\u001b[0mkwargs\u001b[0m\u001b[1;33m)\u001b[0m  \u001b[1;31m# type: ignore[misc]\u001b[0m\u001b[1;33m\u001b[0m\u001b[1;33m\u001b[0m\u001b[0m\n\u001b[0;32m   1531\u001b[0m         \u001b[1;32melse\u001b[0m\u001b[1;33m:\u001b[0m\u001b[1;33m\u001b[0m\u001b[1;33m\u001b[0m\u001b[0m\n\u001b[1;32m-> 1532\u001b[1;33m             \u001b[1;32mreturn\u001b[0m \u001b[0mself\u001b[0m\u001b[1;33m.\u001b[0m\u001b[0m_call_impl\u001b[0m\u001b[1;33m(\u001b[0m\u001b[1;33m*\u001b[0m\u001b[0margs\u001b[0m\u001b[1;33m,\u001b[0m \u001b[1;33m**\u001b[0m\u001b[0mkwargs\u001b[0m\u001b[1;33m)\u001b[0m\u001b[1;33m\u001b[0m\u001b[1;33m\u001b[0m\u001b[0m\n\u001b[0m\u001b[0;32m   1533\u001b[0m \u001b[1;33m\u001b[0m\u001b[0m\n\u001b[0;32m   1534\u001b[0m     \u001b[1;32mdef\u001b[0m \u001b[0m_call_impl\u001b[0m\u001b[1;33m(\u001b[0m\u001b[0mself\u001b[0m\u001b[1;33m,\u001b[0m \u001b[1;33m*\u001b[0m\u001b[0margs\u001b[0m\u001b[1;33m,\u001b[0m \u001b[1;33m**\u001b[0m\u001b[0mkwargs\u001b[0m\u001b[1;33m)\u001b[0m\u001b[1;33m:\u001b[0m\u001b[1;33m\u001b[0m\u001b[1;33m\u001b[0m\u001b[0m\n",
      "\u001b[1;32m~\\PycharmProjects\\image_classification\\.venv\\lib\\site-packages\\torch\\nn\\modules\\module.py\u001b[0m in \u001b[0;36m_call_impl\u001b[1;34m(self, *args, **kwargs)\u001b[0m\n\u001b[0;32m   1539\u001b[0m                 \u001b[1;32mor\u001b[0m \u001b[0m_global_backward_pre_hooks\u001b[0m \u001b[1;32mor\u001b[0m \u001b[0m_global_backward_hooks\u001b[0m\u001b[1;33m\u001b[0m\u001b[1;33m\u001b[0m\u001b[0m\n\u001b[0;32m   1540\u001b[0m                 or _global_forward_hooks or _global_forward_pre_hooks):\n\u001b[1;32m-> 1541\u001b[1;33m             \u001b[1;32mreturn\u001b[0m \u001b[0mforward_call\u001b[0m\u001b[1;33m(\u001b[0m\u001b[1;33m*\u001b[0m\u001b[0margs\u001b[0m\u001b[1;33m,\u001b[0m \u001b[1;33m**\u001b[0m\u001b[0mkwargs\u001b[0m\u001b[1;33m)\u001b[0m\u001b[1;33m\u001b[0m\u001b[1;33m\u001b[0m\u001b[0m\n\u001b[0m\u001b[0;32m   1542\u001b[0m \u001b[1;33m\u001b[0m\u001b[0m\n\u001b[0;32m   1543\u001b[0m         \u001b[1;32mtry\u001b[0m\u001b[1;33m:\u001b[0m\u001b[1;33m\u001b[0m\u001b[1;33m\u001b[0m\u001b[0m\n",
      "\u001b[1;32m~\\PycharmProjects\\image_classification\\.venv\\lib\\site-packages\\transformers\\models\\bert\\modeling_bert.py\u001b[0m in \u001b[0;36mforward\u001b[1;34m(self, hidden_states, attention_mask, head_mask, encoder_hidden_states, encoder_attention_mask, past_key_value, output_attentions)\u001b[0m\n\u001b[0;32m    438\u001b[0m         )\n\u001b[0;32m    439\u001b[0m \u001b[1;33m\u001b[0m\u001b[0m\n\u001b[1;32m--> 440\u001b[1;33m         attn_output = torch.nn.functional.scaled_dot_product_attention(\n\u001b[0m\u001b[0;32m    441\u001b[0m             \u001b[0mquery_layer\u001b[0m\u001b[1;33m,\u001b[0m\u001b[1;33m\u001b[0m\u001b[1;33m\u001b[0m\u001b[0m\n\u001b[0;32m    442\u001b[0m             \u001b[0mkey_layer\u001b[0m\u001b[1;33m,\u001b[0m\u001b[1;33m\u001b[0m\u001b[1;33m\u001b[0m\u001b[0m\n",
      "\u001b[1;31mKeyboardInterrupt\u001b[0m: "
     ]
    }
   ],
   "source": [
    "create_embeddings(docs_path)"
   ]
  },
  {
   "cell_type": "code",
   "execution_count": null,
   "id": "e760d4c1-9014-4a27-8981-b5c1f7e4df27",
   "metadata": {},
   "outputs": [],
   "source": []
  },
  {
   "cell_type": "code",
   "execution_count": 20,
   "id": "44e1038c-a540-4e9e-a0ae-02d91a921e9d",
   "metadata": {},
   "outputs": [
    {
     "ename": "NameError",
     "evalue": "name 'model_path' is not defined",
     "output_type": "error",
     "traceback": [
      "\u001b[1;31m---------------------------------------------------------------------------\u001b[0m",
      "\u001b[1;31mNameError\u001b[0m                                 Traceback (most recent call last)",
      "\u001b[1;32m~\\AppData\\Local\\Temp\\ipykernel_12964\\3290808147.py\u001b[0m in \u001b[0;36m<cell line: 1>\u001b[1;34m()\u001b[0m\n\u001b[1;32m----> 1\u001b[1;33m \u001b[1;32mdef\u001b[0m \u001b[0mget_embedding_model\u001b[0m\u001b[1;33m(\u001b[0m\u001b[0mmodel_path\u001b[0m\u001b[1;33m=\u001b[0m\u001b[0mmodel_path\u001b[0m\u001b[1;33m)\u001b[0m\u001b[1;33m:\u001b[0m\u001b[1;33m\u001b[0m\u001b[1;33m\u001b[0m\u001b[0m\n\u001b[0m\u001b[0;32m      2\u001b[0m \u001b[1;33m\u001b[0m\u001b[0m\n\u001b[0;32m      3\u001b[0m   \u001b[1;32mif\u001b[0m\u001b[1;33m(\u001b[0m\u001b[0mos\u001b[0m\u001b[1;33m.\u001b[0m\u001b[0mpath\u001b[0m\u001b[1;33m.\u001b[0m\u001b[0mexists\u001b[0m\u001b[1;33m(\u001b[0m\u001b[0mmodel_path\u001b[0m\u001b[1;33m)\u001b[0m\u001b[1;33m)\u001b[0m\u001b[1;33m:\u001b[0m\u001b[1;33m\u001b[0m\u001b[1;33m\u001b[0m\u001b[0m\n\u001b[0;32m      4\u001b[0m \u001b[1;33m\u001b[0m\u001b[0m\n\u001b[0;32m      5\u001b[0m \u001b[1;33m\u001b[0m\u001b[0m\n",
      "\u001b[1;31mNameError\u001b[0m: name 'model_path' is not defined"
     ]
    }
   ],
   "source": []
  },
  {
   "cell_type": "code",
   "execution_count": null,
   "id": "41a96d89-8e0f-4a0d-890d-2e860ce4900e",
   "metadata": {},
   "outputs": [],
   "source": [
    "     \n",
    "# Split into chunks\n",
    "text_splitter = CharacterTextSplitter(chunk_size=chunk_size\n",
    "                                      , chunk_overlap=chunk_overlap)\n",
    "\n",
    "docs = text_splitter.create_documents(get_file_contents(docs_path))  \n",
    "\n",
    "vectorstore  = FAISS.from_documents(docs, get_embedding_model())\n",
    "\n",
    "vectorstore.save_local(vectorstore_path)\n",
    "\n",
    "\n",
    "\n"
   ]
  },
  {
   "cell_type": "code",
   "execution_count": null,
   "id": "bacf6412-43cc-4a2b-b70c-0263cd814571",
   "metadata": {},
   "outputs": [],
   "source": []
  }
 ],
 "metadata": {
  "kernelspec": {
   "display_name": "Python 3 (ipykernel)",
   "language": "python",
   "name": "python3"
  },
  "language_info": {
   "codemirror_mode": {
    "name": "ipython",
    "version": 3
   },
   "file_extension": ".py",
   "mimetype": "text/x-python",
   "name": "python",
   "nbconvert_exporter": "python",
   "pygments_lexer": "ipython3",
   "version": "3.10.11"
  }
 },
 "nbformat": 4,
 "nbformat_minor": 5
}
